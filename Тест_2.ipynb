{
  "nbformat": 4,
  "nbformat_minor": 0,
  "metadata": {
    "colab": {
      "provenance": [],
      "authorship_tag": "ABX9TyMnw4Dc5lbF9O5Wgivm0jXm",
      "include_colab_link": true
    },
    "kernelspec": {
      "name": "python3",
      "display_name": "Python 3"
    },
    "language_info": {
      "name": "python"
    }
  },
  "cells": [
    {
      "cell_type": "markdown",
      "metadata": {
        "id": "view-in-github",
        "colab_type": "text"
      },
      "source": [
        "<a href=\"https://colab.research.google.com/github/Foenixxx/BetChess/blob/main/%D0%A2%D0%B5%D1%81%D1%82_2.ipynb\" target=\"_parent\"><img src=\"https://colab.research.google.com/assets/colab-badge.svg\" alt=\"Open In Colab\"/></a>"
      ]
    },
    {
      "cell_type": "markdown",
      "source": [
        "https://www.youtube.com/watch?v=RKKhzFBmEBg&list=PLlb7e2G7aSpT1ntsozWmWJ4kGUsUs141Y&index=2&ab_channel=ComputerScienceCenter"
      ],
      "metadata": {
        "id": "MWshZDFt_86V"
      }
    },
    {
      "cell_type": "code",
      "source": [
        "# Импорт библиотек\n",
        "import numpy\n",
        "import pandas as pd"
      ],
      "metadata": {
        "id": "ZmzzdnGt_9fE"
      },
      "execution_count": null,
      "outputs": []
    },
    {
      "cell_type": "code",
      "source": [
        "# Импорт matplotlib - не нужен, на всякий случай\n",
        "\n",
        "import matplotlib\n",
        "import matplotlib.pyplot as plt\n",
        "matplotlib.style.use('ggplot')\n",
        "%matplotlib inline"
      ],
      "metadata": {
        "id": "s79dmUJeBk6Y"
      },
      "execution_count": null,
      "outputs": []
    },
    {
      "cell_type": "code",
      "source": [
        "# Задаем рабочую папку\n",
        "\n",
        "# import os\n",
        "# os.chdir(\"C:/Users/USER/Documents/Python/_Python_part_2/Lecture_2_01\")"
      ],
      "metadata": {
        "id": "ETD9XV5rBmvT"
      },
      "execution_count": null,
      "outputs": []
    },
    {
      "cell_type": "code",
      "source": [
        "# Импорт нужного из keras\n",
        "from keras.models import Sequential\n",
        "from keras.layers import Dense\n",
        "from keras.utils import np_utils"
      ],
      "metadata": {
        "id": "zp0KSN78B19k"
      },
      "execution_count": null,
      "outputs": []
    },
    {
      "cell_type": "code",
      "source": [
        "# Импорт обучающей выборки\n",
        "# wine = pd.read_csv('Wine.txt', sep='\\t', header=0)\n",
        "data = pd.read_csv('/content/lichess_elite_2022-10_game_info.csv', header=0)"
      ],
      "metadata": {
        "id": "Bx3nRk3fB2kU"
      },
      "execution_count": null,
      "outputs": []
    },
    {
      "cell_type": "code",
      "source": [
        "# data.tail(5)\n",
        "data.head()"
      ],
      "metadata": {
        "colab": {
          "base_uri": "https://localhost:8080/",
          "height": 206
        },
        "id": "8bfqUm0vCcz7",
        "outputId": "ef37e71e-ec32-41ea-f241-5d15c0459089"
      },
      "execution_count": null,
      "outputs": [
        {
          "output_type": "execute_result",
          "data": {
            "text/plain": [
              "   result  white_elo  black_elo\n",
              "0     0.0       2399       2500\n",
              "1     1.0       2529       2385\n",
              "2     0.0       2430       2654\n",
              "3     0.0       2538       2402\n",
              "4     1.0       2621       2602"
            ],
            "text/html": [
              "\n",
              "  <div id=\"df-dedd3ce3-ce57-4890-81ae-58c5d82de404\">\n",
              "    <div class=\"colab-df-container\">\n",
              "      <div>\n",
              "<style scoped>\n",
              "    .dataframe tbody tr th:only-of-type {\n",
              "        vertical-align: middle;\n",
              "    }\n",
              "\n",
              "    .dataframe tbody tr th {\n",
              "        vertical-align: top;\n",
              "    }\n",
              "\n",
              "    .dataframe thead th {\n",
              "        text-align: right;\n",
              "    }\n",
              "</style>\n",
              "<table border=\"1\" class=\"dataframe\">\n",
              "  <thead>\n",
              "    <tr style=\"text-align: right;\">\n",
              "      <th></th>\n",
              "      <th>result</th>\n",
              "      <th>white_elo</th>\n",
              "      <th>black_elo</th>\n",
              "    </tr>\n",
              "  </thead>\n",
              "  <tbody>\n",
              "    <tr>\n",
              "      <th>0</th>\n",
              "      <td>0.0</td>\n",
              "      <td>2399</td>\n",
              "      <td>2500</td>\n",
              "    </tr>\n",
              "    <tr>\n",
              "      <th>1</th>\n",
              "      <td>1.0</td>\n",
              "      <td>2529</td>\n",
              "      <td>2385</td>\n",
              "    </tr>\n",
              "    <tr>\n",
              "      <th>2</th>\n",
              "      <td>0.0</td>\n",
              "      <td>2430</td>\n",
              "      <td>2654</td>\n",
              "    </tr>\n",
              "    <tr>\n",
              "      <th>3</th>\n",
              "      <td>0.0</td>\n",
              "      <td>2538</td>\n",
              "      <td>2402</td>\n",
              "    </tr>\n",
              "    <tr>\n",
              "      <th>4</th>\n",
              "      <td>1.0</td>\n",
              "      <td>2621</td>\n",
              "      <td>2602</td>\n",
              "    </tr>\n",
              "  </tbody>\n",
              "</table>\n",
              "</div>\n",
              "      <button class=\"colab-df-convert\" onclick=\"convertToInteractive('df-dedd3ce3-ce57-4890-81ae-58c5d82de404')\"\n",
              "              title=\"Convert this dataframe to an interactive table.\"\n",
              "              style=\"display:none;\">\n",
              "        \n",
              "  <svg xmlns=\"http://www.w3.org/2000/svg\" height=\"24px\"viewBox=\"0 0 24 24\"\n",
              "       width=\"24px\">\n",
              "    <path d=\"M0 0h24v24H0V0z\" fill=\"none\"/>\n",
              "    <path d=\"M18.56 5.44l.94 2.06.94-2.06 2.06-.94-2.06-.94-.94-2.06-.94 2.06-2.06.94zm-11 1L8.5 8.5l.94-2.06 2.06-.94-2.06-.94L8.5 2.5l-.94 2.06-2.06.94zm10 10l.94 2.06.94-2.06 2.06-.94-2.06-.94-.94-2.06-.94 2.06-2.06.94z\"/><path d=\"M17.41 7.96l-1.37-1.37c-.4-.4-.92-.59-1.43-.59-.52 0-1.04.2-1.43.59L10.3 9.45l-7.72 7.72c-.78.78-.78 2.05 0 2.83L4 21.41c.39.39.9.59 1.41.59.51 0 1.02-.2 1.41-.59l7.78-7.78 2.81-2.81c.8-.78.8-2.07 0-2.86zM5.41 20L4 18.59l7.72-7.72 1.47 1.35L5.41 20z\"/>\n",
              "  </svg>\n",
              "      </button>\n",
              "      \n",
              "  <style>\n",
              "    .colab-df-container {\n",
              "      display:flex;\n",
              "      flex-wrap:wrap;\n",
              "      gap: 12px;\n",
              "    }\n",
              "\n",
              "    .colab-df-convert {\n",
              "      background-color: #E8F0FE;\n",
              "      border: none;\n",
              "      border-radius: 50%;\n",
              "      cursor: pointer;\n",
              "      display: none;\n",
              "      fill: #1967D2;\n",
              "      height: 32px;\n",
              "      padding: 0 0 0 0;\n",
              "      width: 32px;\n",
              "    }\n",
              "\n",
              "    .colab-df-convert:hover {\n",
              "      background-color: #E2EBFA;\n",
              "      box-shadow: 0px 1px 2px rgba(60, 64, 67, 0.3), 0px 1px 3px 1px rgba(60, 64, 67, 0.15);\n",
              "      fill: #174EA6;\n",
              "    }\n",
              "\n",
              "    [theme=dark] .colab-df-convert {\n",
              "      background-color: #3B4455;\n",
              "      fill: #D2E3FC;\n",
              "    }\n",
              "\n",
              "    [theme=dark] .colab-df-convert:hover {\n",
              "      background-color: #434B5C;\n",
              "      box-shadow: 0px 1px 3px 1px rgba(0, 0, 0, 0.15);\n",
              "      filter: drop-shadow(0px 1px 2px rgba(0, 0, 0, 0.3));\n",
              "      fill: #FFFFFF;\n",
              "    }\n",
              "  </style>\n",
              "\n",
              "      <script>\n",
              "        const buttonEl =\n",
              "          document.querySelector('#df-dedd3ce3-ce57-4890-81ae-58c5d82de404 button.colab-df-convert');\n",
              "        buttonEl.style.display =\n",
              "          google.colab.kernel.accessAllowed ? 'block' : 'none';\n",
              "\n",
              "        async function convertToInteractive(key) {\n",
              "          const element = document.querySelector('#df-dedd3ce3-ce57-4890-81ae-58c5d82de404');\n",
              "          const dataTable =\n",
              "            await google.colab.kernel.invokeFunction('convertToInteractive',\n",
              "                                                     [key], {});\n",
              "          if (!dataTable) return;\n",
              "\n",
              "          const docLinkHtml = 'Like what you see? Visit the ' +\n",
              "            '<a target=\"_blank\" href=https://colab.research.google.com/notebooks/data_table.ipynb>data table notebook</a>'\n",
              "            + ' to learn more about interactive tables.';\n",
              "          element.innerHTML = '';\n",
              "          dataTable['output_type'] = 'display_data';\n",
              "          await google.colab.output.renderOutput(dataTable, element);\n",
              "          const docLink = document.createElement('div');\n",
              "          docLink.innerHTML = docLinkHtml;\n",
              "          element.appendChild(docLink);\n",
              "        }\n",
              "      </script>\n",
              "    </div>\n",
              "  </div>\n",
              "  "
            ]
          },
          "metadata": {},
          "execution_count": 19
        }
      ]
    },
    {
      "cell_type": "code",
      "source": [],
      "metadata": {
        "id": "-C--iRC4DBTy"
      },
      "execution_count": null,
      "outputs": []
    },
    {
      "cell_type": "code",
      "source": [
        "data.info()"
      ],
      "metadata": {
        "colab": {
          "base_uri": "https://localhost:8080/"
        },
        "id": "ASgmWxcsDLLS",
        "outputId": "6d3ebcc1-8dfe-4983-87dd-9474f9ead25d"
      },
      "execution_count": null,
      "outputs": [
        {
          "output_type": "stream",
          "name": "stdout",
          "text": [
            "<class 'pandas.core.frame.DataFrame'>\n",
            "RangeIndex: 76591 entries, 0 to 76590\n",
            "Data columns (total 19 columns):\n",
            " #   Column                 Non-Null Count  Dtype  \n",
            "---  ------                 --------------  -----  \n",
            " 0   Unnamed: 0             76591 non-null  int64  \n",
            " 1   event                  76591 non-null  object \n",
            " 2   white                  76591 non-null  object \n",
            " 3   black                  76591 non-null  object \n",
            " 4   result                 76591 non-null  float64\n",
            " 5   white_elo              76591 non-null  int64  \n",
            " 6   white_rating_diff      75428 non-null  float64\n",
            " 7   black_elo              76591 non-null  int64  \n",
            " 8   black_rating_diff      75428 non-null  float64\n",
            " 9   white_title            23829 non-null  object \n",
            " 10  black_title            23686 non-null  object \n",
            " 11  winner                 76591 non-null  object \n",
            " 12  winner_elo             64998 non-null  float64\n",
            " 13  loser                  76591 non-null  object \n",
            " 14  loser_elo              64998 non-null  float64\n",
            " 15  winner_loser_elo_diff  76591 non-null  int64  \n",
            " 16  termination            76591 non-null  object \n",
            " 17  time_control           76591 non-null  object \n",
            " 18  utc_time               76591 non-null  object \n",
            "dtypes: float64(5), int64(4), object(10)\n",
            "memory usage: 11.1+ MB\n"
          ]
        }
      ]
    },
    {
      "cell_type": "code",
      "source": [
        "data.drop(data.columns[[0,1,18,2,6,3,8,9,10,11,12,13,14,15,16,17]], axis = 1, inplace=True)   # удаляем ненужные колонки [по номерам]"
      ],
      "metadata": {
        "id": "PltC3eLgDO-g"
      },
      "execution_count": null,
      "outputs": []
    },
    {
      "cell_type": "code",
      "source": [
        "data['result'].value_counts(normalize=True)  # проверяем статистику колонки"
      ],
      "metadata": {
        "colab": {
          "base_uri": "https://localhost:8080/"
        },
        "id": "_GI0x4FkDcCd",
        "outputId": "c3112b24-71bf-4d4e-b487-90269b4a4ca3"
      },
      "execution_count": null,
      "outputs": [
        {
          "output_type": "execute_result",
          "data": {
            "text/plain": [
              "1.0    0.453173\n",
              "0.0    0.395464\n",
              "0.5    0.151362\n",
              "Name: result, dtype: float64"
            ]
          },
          "metadata": {},
          "execution_count": 11
        }
      ]
    },
    {
      "cell_type": "code",
      "source": [
        "#  предикторы и отклик разделяем\n",
        "# Отклик - группирующая переменная -  вектор y\n",
        "y = data['result']\n",
        "# Предикторы - таблица X\n",
        "X = data.drop('result', axis=1)"
      ],
      "metadata": {
        "id": "0BlCWEYND3ts"
      },
      "execution_count": null,
      "outputs": []
    },
    {
      "cell_type": "code",
      "source": [
        "# расщепляем на обучающую и тестовую выборку\n",
        "from sklearn.model_selection import train_test_split\n",
        "X_train, X_test, y_train, y_test = train_test_split(X, y, random_state=12345,\n",
        "                                                    # доля объёма тестового множества\n",
        "                                                    test_size=0.2)    # размер тестовой выборки (20%)"
      ],
      "metadata": {
        "id": "gmD0B0MEEaAE"
      },
      "execution_count": null,
      "outputs": []
    },
    {
      "cell_type": "code",
      "source": [
        "X_train.head()\n",
        "X_test.head()\n",
        "y_train.headX()\n",
        "y_test.head()"
      ],
      "metadata": {
        "colab": {
          "base_uri": "https://localhost:8080/"
        },
        "id": "Kzzie4VNE4uC",
        "outputId": "389b6796-8de0-4151-b688-fdfc887754bc"
      },
      "execution_count": null,
      "outputs": [
        {
          "output_type": "execute_result",
          "data": {
            "text/plain": [
              "69648    0.0\n",
              "42137    1.0\n",
              "26312    0.5\n",
              "28581    1.0\n",
              "1873     1.0\n",
              "Name: result, dtype: float64"
            ]
          },
          "metadata": {},
          "execution_count": 14
        }
      ]
    },
    {
      "cell_type": "code",
      "source": [
        "from keras.models import Sequential\n",
        "from keras.layers import Dense"
      ],
      "metadata": {
        "id": "zivC2CdBFa-v"
      },
      "execution_count": null,
      "outputs": []
    },
    {
      "cell_type": "code",
      "source": [
        "\n",
        "# Creating a model\n",
        "model = Sequential()\n",
        "model.add(Dense(64, input_dim=2, activation='sigmoid'))\n",
        "# model.add(Dense(10, activation='relu', ))\n",
        "# model.add(Dense(128, activation='sigmoid', ))\n",
        "model.add(Dense(8, activation='softmax', ))\n",
        "model.add(Dense(1))\n",
        "\n",
        "\n",
        "# Compiling model\n",
        "model.compile(loss='poisson', optimizer='adam', metrics=['poisson'])   # loss='categorical_crossentropy'\n",
        "\n",
        "\n",
        "# Training a model\n",
        "model.fit(X_train, y_train, epochs=100, batch_size=250)"
      ],
      "metadata": {
        "colab": {
          "base_uri": "https://localhost:8080/",
          "height": 1000
        },
        "id": "QefFZI6fFied",
        "outputId": "8bdf75ed-b8b8-4421-cd5a-169352518208"
      },
      "execution_count": null,
      "outputs": [
        {
          "output_type": "stream",
          "name": "stdout",
          "text": [
            "Epoch 1/100\n",
            "246/246 [==============================] - 1s 2ms/step - loss: nan - poisson: nan\n",
            "Epoch 2/100\n",
            "246/246 [==============================] - 1s 2ms/step - loss: nan - poisson: nan\n",
            "Epoch 3/100\n",
            "246/246 [==============================] - 1s 2ms/step - loss: nan - poisson: nan\n",
            "Epoch 4/100\n",
            "246/246 [==============================] - 1s 3ms/step - loss: nan - poisson: nan\n",
            "Epoch 5/100\n",
            "246/246 [==============================] - 1s 2ms/step - loss: nan - poisson: nan\n",
            "Epoch 6/100\n",
            "246/246 [==============================] - 1s 2ms/step - loss: nan - poisson: nan\n",
            "Epoch 7/100\n",
            "246/246 [==============================] - 1s 2ms/step - loss: nan - poisson: nan\n",
            "Epoch 8/100\n",
            "246/246 [==============================] - 1s 2ms/step - loss: nan - poisson: nan\n",
            "Epoch 9/100\n",
            "246/246 [==============================] - 1s 2ms/step - loss: nan - poisson: nan\n",
            "Epoch 10/100\n",
            "246/246 [==============================] - 1s 2ms/step - loss: nan - poisson: nan\n",
            "Epoch 11/100\n",
            "246/246 [==============================] - 1s 2ms/step - loss: nan - poisson: nan\n",
            "Epoch 12/100\n",
            "246/246 [==============================] - 1s 2ms/step - loss: nan - poisson: nan\n",
            "Epoch 13/100\n",
            "246/246 [==============================] - 0s 2ms/step - loss: nan - poisson: nan\n",
            "Epoch 14/100\n",
            "246/246 [==============================] - 1s 2ms/step - loss: nan - poisson: nan\n",
            "Epoch 15/100\n",
            "246/246 [==============================] - 1s 2ms/step - loss: nan - poisson: nan\n",
            "Epoch 16/100\n",
            "246/246 [==============================] - 1s 2ms/step - loss: nan - poisson: nan\n",
            "Epoch 17/100\n",
            "246/246 [==============================] - 1s 2ms/step - loss: nan - poisson: nan\n",
            "Epoch 18/100\n",
            "246/246 [==============================] - 1s 2ms/step - loss: nan - poisson: nan\n",
            "Epoch 19/100\n",
            "246/246 [==============================] - 1s 2ms/step - loss: nan - poisson: nan\n",
            "Epoch 20/100\n",
            "246/246 [==============================] - 1s 2ms/step - loss: nan - poisson: nan\n",
            "Epoch 21/100\n",
            "246/246 [==============================] - 1s 2ms/step - loss: nan - poisson: nan\n",
            "Epoch 22/100\n",
            "246/246 [==============================] - 1s 2ms/step - loss: nan - poisson: nan\n",
            "Epoch 23/100\n",
            "246/246 [==============================] - 1s 3ms/step - loss: nan - poisson: nan\n",
            "Epoch 24/100\n",
            "246/246 [==============================] - 1s 3ms/step - loss: nan - poisson: nan\n",
            "Epoch 25/100\n",
            "246/246 [==============================] - 1s 2ms/step - loss: nan - poisson: nan\n",
            "Epoch 26/100\n",
            "246/246 [==============================] - 1s 2ms/step - loss: nan - poisson: nan\n",
            "Epoch 27/100\n",
            "246/246 [==============================] - 1s 2ms/step - loss: nan - poisson: nan\n",
            "Epoch 28/100\n",
            "246/246 [==============================] - 1s 2ms/step - loss: nan - poisson: nan\n",
            "Epoch 29/100\n",
            "246/246 [==============================] - 1s 2ms/step - loss: nan - poisson: nan\n",
            "Epoch 30/100\n",
            "246/246 [==============================] - 1s 2ms/step - loss: nan - poisson: nan\n",
            "Epoch 31/100\n",
            "246/246 [==============================] - 1s 2ms/step - loss: nan - poisson: nan\n",
            "Epoch 32/100\n",
            "246/246 [==============================] - 1s 2ms/step - loss: nan - poisson: nan\n",
            "Epoch 33/100\n",
            "246/246 [==============================] - 1s 2ms/step - loss: nan - poisson: nan\n",
            "Epoch 34/100\n",
            "246/246 [==============================] - 1s 2ms/step - loss: nan - poisson: nan\n",
            "Epoch 35/100\n",
            "246/246 [==============================] - 1s 2ms/step - loss: nan - poisson: nan\n",
            "Epoch 36/100\n",
            "246/246 [==============================] - 1s 2ms/step - loss: nan - poisson: nan\n",
            "Epoch 37/100\n",
            "246/246 [==============================] - 1s 2ms/step - loss: nan - poisson: nan\n",
            "Epoch 38/100\n",
            "246/246 [==============================] - 1s 2ms/step - loss: nan - poisson: nan\n",
            "Epoch 39/100\n",
            "246/246 [==============================] - 1s 2ms/step - loss: nan - poisson: nan\n",
            "Epoch 40/100\n",
            "246/246 [==============================] - 1s 2ms/step - loss: nan - poisson: nan\n",
            "Epoch 41/100\n",
            "246/246 [==============================] - 1s 2ms/step - loss: nan - poisson: nan\n",
            "Epoch 42/100\n",
            "246/246 [==============================] - 1s 2ms/step - loss: nan - poisson: nan\n",
            "Epoch 43/100\n",
            "246/246 [==============================] - 1s 2ms/step - loss: nan - poisson: nan\n",
            "Epoch 44/100\n",
            "246/246 [==============================] - 1s 2ms/step - loss: nan - poisson: nan\n",
            "Epoch 45/100\n",
            "246/246 [==============================] - 1s 2ms/step - loss: nan - poisson: nan\n",
            "Epoch 46/100\n",
            "246/246 [==============================] - 1s 2ms/step - loss: nan - poisson: nan\n",
            "Epoch 47/100\n",
            "246/246 [==============================] - 1s 2ms/step - loss: nan - poisson: nan\n",
            "Epoch 48/100\n",
            "246/246 [==============================] - 1s 2ms/step - loss: nan - poisson: nan\n",
            "Epoch 49/100\n",
            "246/246 [==============================] - 1s 2ms/step - loss: nan - poisson: nan\n",
            "Epoch 50/100\n",
            "246/246 [==============================] - 1s 2ms/step - loss: nan - poisson: nan\n",
            "Epoch 51/100\n",
            "246/246 [==============================] - 1s 2ms/step - loss: nan - poisson: nan\n",
            "Epoch 52/100\n",
            "246/246 [==============================] - 1s 2ms/step - loss: nan - poisson: nan\n",
            "Epoch 53/100\n",
            "246/246 [==============================] - 1s 2ms/step - loss: nan - poisson: nan\n",
            "Epoch 54/100\n",
            "246/246 [==============================] - 1s 2ms/step - loss: nan - poisson: nan\n",
            "Epoch 55/100\n",
            "246/246 [==============================] - 1s 2ms/step - loss: nan - poisson: nan\n",
            "Epoch 56/100\n",
            "246/246 [==============================] - 1s 2ms/step - loss: nan - poisson: nan\n",
            "Epoch 57/100\n",
            "246/246 [==============================] - 1s 2ms/step - loss: nan - poisson: nan\n",
            "Epoch 58/100\n",
            "246/246 [==============================] - 1s 2ms/step - loss: nan - poisson: nan\n",
            "Epoch 59/100\n",
            "246/246 [==============================] - 1s 2ms/step - loss: nan - poisson: nan\n",
            "Epoch 60/100\n",
            "246/246 [==============================] - 1s 2ms/step - loss: nan - poisson: nan\n",
            "Epoch 61/100\n",
            "246/246 [==============================] - 1s 2ms/step - loss: nan - poisson: nan\n",
            "Epoch 62/100\n",
            "246/246 [==============================] - 1s 2ms/step - loss: nan - poisson: nan\n",
            "Epoch 63/100\n",
            "246/246 [==============================] - 1s 2ms/step - loss: nan - poisson: nan\n",
            "Epoch 64/100\n",
            "246/246 [==============================] - 1s 2ms/step - loss: nan - poisson: nan\n",
            "Epoch 65/100\n",
            "246/246 [==============================] - 1s 2ms/step - loss: nan - poisson: nan\n",
            "Epoch 66/100\n",
            "246/246 [==============================] - 1s 2ms/step - loss: nan - poisson: nan\n",
            "Epoch 67/100\n",
            "246/246 [==============================] - 1s 2ms/step - loss: nan - poisson: nan\n",
            "Epoch 68/100\n",
            "246/246 [==============================] - 1s 2ms/step - loss: nan - poisson: nan\n",
            "Epoch 69/100\n",
            "246/246 [==============================] - 1s 2ms/step - loss: nan - poisson: nan\n",
            "Epoch 70/100\n",
            "246/246 [==============================] - 1s 2ms/step - loss: nan - poisson: nan\n",
            "Epoch 71/100\n",
            "246/246 [==============================] - 1s 2ms/step - loss: nan - poisson: nan\n",
            "Epoch 72/100\n",
            "246/246 [==============================] - 1s 2ms/step - loss: nan - poisson: nan\n",
            "Epoch 73/100\n",
            "246/246 [==============================] - 1s 2ms/step - loss: nan - poisson: nan\n",
            "Epoch 74/100\n",
            "246/246 [==============================] - 1s 2ms/step - loss: nan - poisson: nan\n",
            "Epoch 75/100\n",
            "246/246 [==============================] - 1s 2ms/step - loss: nan - poisson: nan\n",
            "Epoch 76/100\n",
            "246/246 [==============================] - 1s 2ms/step - loss: nan - poisson: nan\n",
            "Epoch 77/100\n",
            "246/246 [==============================] - 1s 2ms/step - loss: nan - poisson: nan\n",
            "Epoch 78/100\n",
            "246/246 [==============================] - 1s 2ms/step - loss: nan - poisson: nan\n",
            "Epoch 79/100\n",
            "246/246 [==============================] - 1s 2ms/step - loss: nan - poisson: nan\n",
            "Epoch 80/100\n",
            "246/246 [==============================] - 1s 2ms/step - loss: nan - poisson: nan\n",
            "Epoch 81/100\n",
            "246/246 [==============================] - 1s 2ms/step - loss: nan - poisson: nan\n",
            "Epoch 82/100\n",
            "246/246 [==============================] - 1s 2ms/step - loss: nan - poisson: nan\n",
            "Epoch 83/100\n",
            "246/246 [==============================] - 1s 2ms/step - loss: nan - poisson: nan\n",
            "Epoch 84/100\n",
            "246/246 [==============================] - 1s 2ms/step - loss: nan - poisson: nan\n",
            "Epoch 85/100\n",
            "246/246 [==============================] - 1s 2ms/step - loss: nan - poisson: nan\n",
            "Epoch 86/100\n",
            "246/246 [==============================] - 1s 2ms/step - loss: nan - poisson: nan\n",
            "Epoch 87/100\n",
            "246/246 [==============================] - 1s 2ms/step - loss: nan - poisson: nan\n",
            "Epoch 88/100\n",
            "246/246 [==============================] - 1s 2ms/step - loss: nan - poisson: nan\n",
            "Epoch 89/100\n",
            "246/246 [==============================] - 1s 2ms/step - loss: nan - poisson: nan\n",
            "Epoch 90/100\n",
            "246/246 [==============================] - 1s 2ms/step - loss: nan - poisson: nan\n",
            "Epoch 91/100\n",
            "246/246 [==============================] - 1s 2ms/step - loss: nan - poisson: nan\n",
            "Epoch 92/100\n",
            "246/246 [==============================] - 1s 2ms/step - loss: nan - poisson: nan\n",
            "Epoch 93/100\n",
            "246/246 [==============================] - 1s 2ms/step - loss: nan - poisson: nan\n",
            "Epoch 94/100\n",
            "246/246 [==============================] - 1s 2ms/step - loss: nan - poisson: nan\n",
            "Epoch 95/100\n",
            "246/246 [==============================] - 1s 2ms/step - loss: nan - poisson: nan\n",
            "Epoch 96/100\n",
            "246/246 [==============================] - 1s 2ms/step - loss: nan - poisson: nan\n",
            "Epoch 97/100\n",
            "246/246 [==============================] - 1s 2ms/step - loss: nan - poisson: nan\n",
            "Epoch 98/100\n",
            "246/246 [==============================] - 1s 2ms/step - loss: nan - poisson: nan\n",
            "Epoch 99/100\n",
            "246/246 [==============================] - 1s 2ms/step - loss: nan - poisson: nan\n",
            "Epoch 100/100\n",
            "145/246 [================>.............] - ETA: 0s - loss: nan - poisson: nan"
          ]
        },
        {
          "output_type": "error",
          "ename": "KeyboardInterrupt",
          "evalue": "ignored",
          "traceback": [
            "\u001b[0;31m---------------------------------------------------------------------------\u001b[0m",
            "\u001b[0;31mKeyboardInterrupt\u001b[0m                         Traceback (most recent call last)",
            "\u001b[0;32m<ipython-input-16-bfe9619e653e>\u001b[0m in \u001b[0;36m<module>\u001b[0;34m\u001b[0m\n\u001b[1;32m     13\u001b[0m \u001b[0;34m\u001b[0m\u001b[0m\n\u001b[1;32m     14\u001b[0m \u001b[0;31m# Training a model\u001b[0m\u001b[0;34m\u001b[0m\u001b[0;34m\u001b[0m\u001b[0;34m\u001b[0m\u001b[0m\n\u001b[0;32m---> 15\u001b[0;31m \u001b[0mmodel\u001b[0m\u001b[0;34m.\u001b[0m\u001b[0mfit\u001b[0m\u001b[0;34m(\u001b[0m\u001b[0mX_train\u001b[0m\u001b[0;34m,\u001b[0m \u001b[0my_train\u001b[0m\u001b[0;34m,\u001b[0m \u001b[0mepochs\u001b[0m\u001b[0;34m=\u001b[0m\u001b[0;36m100\u001b[0m\u001b[0;34m,\u001b[0m \u001b[0mbatch_size\u001b[0m\u001b[0;34m=\u001b[0m\u001b[0;36m250\u001b[0m\u001b[0;34m)\u001b[0m\u001b[0;34m\u001b[0m\u001b[0;34m\u001b[0m\u001b[0m\n\u001b[0m",
            "\u001b[0;32m/usr/local/lib/python3.7/dist-packages/keras/utils/traceback_utils.py\u001b[0m in \u001b[0;36merror_handler\u001b[0;34m(*args, **kwargs)\u001b[0m\n\u001b[1;32m     62\u001b[0m     \u001b[0mfiltered_tb\u001b[0m \u001b[0;34m=\u001b[0m \u001b[0;32mNone\u001b[0m\u001b[0;34m\u001b[0m\u001b[0;34m\u001b[0m\u001b[0m\n\u001b[1;32m     63\u001b[0m     \u001b[0;32mtry\u001b[0m\u001b[0;34m:\u001b[0m\u001b[0;34m\u001b[0m\u001b[0;34m\u001b[0m\u001b[0m\n\u001b[0;32m---> 64\u001b[0;31m       \u001b[0;32mreturn\u001b[0m \u001b[0mfn\u001b[0m\u001b[0;34m(\u001b[0m\u001b[0;34m*\u001b[0m\u001b[0margs\u001b[0m\u001b[0;34m,\u001b[0m \u001b[0;34m**\u001b[0m\u001b[0mkwargs\u001b[0m\u001b[0;34m)\u001b[0m\u001b[0;34m\u001b[0m\u001b[0;34m\u001b[0m\u001b[0m\n\u001b[0m\u001b[1;32m     65\u001b[0m     \u001b[0;32mexcept\u001b[0m \u001b[0mException\u001b[0m \u001b[0;32mas\u001b[0m \u001b[0me\u001b[0m\u001b[0;34m:\u001b[0m  \u001b[0;31m# pylint: disable=broad-except\u001b[0m\u001b[0;34m\u001b[0m\u001b[0;34m\u001b[0m\u001b[0m\n\u001b[1;32m     66\u001b[0m       \u001b[0mfiltered_tb\u001b[0m \u001b[0;34m=\u001b[0m \u001b[0m_process_traceback_frames\u001b[0m\u001b[0;34m(\u001b[0m\u001b[0me\u001b[0m\u001b[0;34m.\u001b[0m\u001b[0m__traceback__\u001b[0m\u001b[0;34m)\u001b[0m\u001b[0;34m\u001b[0m\u001b[0;34m\u001b[0m\u001b[0m\n",
            "\u001b[0;32m/usr/local/lib/python3.7/dist-packages/keras/engine/training.py\u001b[0m in \u001b[0;36mfit\u001b[0;34m(self, x, y, batch_size, epochs, verbose, callbacks, validation_split, validation_data, shuffle, class_weight, sample_weight, initial_epoch, steps_per_epoch, validation_steps, validation_batch_size, validation_freq, max_queue_size, workers, use_multiprocessing)\u001b[0m\n\u001b[1;32m   1407\u001b[0m                 _r=1):\n\u001b[1;32m   1408\u001b[0m               \u001b[0mcallbacks\u001b[0m\u001b[0;34m.\u001b[0m\u001b[0mon_train_batch_begin\u001b[0m\u001b[0;34m(\u001b[0m\u001b[0mstep\u001b[0m\u001b[0;34m)\u001b[0m\u001b[0;34m\u001b[0m\u001b[0;34m\u001b[0m\u001b[0m\n\u001b[0;32m-> 1409\u001b[0;31m               \u001b[0mtmp_logs\u001b[0m \u001b[0;34m=\u001b[0m \u001b[0mself\u001b[0m\u001b[0;34m.\u001b[0m\u001b[0mtrain_function\u001b[0m\u001b[0;34m(\u001b[0m\u001b[0miterator\u001b[0m\u001b[0;34m)\u001b[0m\u001b[0;34m\u001b[0m\u001b[0;34m\u001b[0m\u001b[0m\n\u001b[0m\u001b[1;32m   1410\u001b[0m               \u001b[0;32mif\u001b[0m \u001b[0mdata_handler\u001b[0m\u001b[0;34m.\u001b[0m\u001b[0mshould_sync\u001b[0m\u001b[0;34m:\u001b[0m\u001b[0;34m\u001b[0m\u001b[0;34m\u001b[0m\u001b[0m\n\u001b[1;32m   1411\u001b[0m                 \u001b[0mcontext\u001b[0m\u001b[0;34m.\u001b[0m\u001b[0masync_wait\u001b[0m\u001b[0;34m(\u001b[0m\u001b[0;34m)\u001b[0m\u001b[0;34m\u001b[0m\u001b[0;34m\u001b[0m\u001b[0m\n",
            "\u001b[0;32m/usr/local/lib/python3.7/dist-packages/tensorflow/python/util/traceback_utils.py\u001b[0m in \u001b[0;36merror_handler\u001b[0;34m(*args, **kwargs)\u001b[0m\n\u001b[1;32m    148\u001b[0m     \u001b[0mfiltered_tb\u001b[0m \u001b[0;34m=\u001b[0m \u001b[0;32mNone\u001b[0m\u001b[0;34m\u001b[0m\u001b[0;34m\u001b[0m\u001b[0m\n\u001b[1;32m    149\u001b[0m     \u001b[0;32mtry\u001b[0m\u001b[0;34m:\u001b[0m\u001b[0;34m\u001b[0m\u001b[0;34m\u001b[0m\u001b[0m\n\u001b[0;32m--> 150\u001b[0;31m       \u001b[0;32mreturn\u001b[0m \u001b[0mfn\u001b[0m\u001b[0;34m(\u001b[0m\u001b[0;34m*\u001b[0m\u001b[0margs\u001b[0m\u001b[0;34m,\u001b[0m \u001b[0;34m**\u001b[0m\u001b[0mkwargs\u001b[0m\u001b[0;34m)\u001b[0m\u001b[0;34m\u001b[0m\u001b[0;34m\u001b[0m\u001b[0m\n\u001b[0m\u001b[1;32m    151\u001b[0m     \u001b[0;32mexcept\u001b[0m \u001b[0mException\u001b[0m \u001b[0;32mas\u001b[0m \u001b[0me\u001b[0m\u001b[0;34m:\u001b[0m\u001b[0;34m\u001b[0m\u001b[0;34m\u001b[0m\u001b[0m\n\u001b[1;32m    152\u001b[0m       \u001b[0mfiltered_tb\u001b[0m \u001b[0;34m=\u001b[0m \u001b[0m_process_traceback_frames\u001b[0m\u001b[0;34m(\u001b[0m\u001b[0me\u001b[0m\u001b[0;34m.\u001b[0m\u001b[0m__traceback__\u001b[0m\u001b[0;34m)\u001b[0m\u001b[0;34m\u001b[0m\u001b[0;34m\u001b[0m\u001b[0m\n",
            "\u001b[0;32m/usr/local/lib/python3.7/dist-packages/tensorflow/python/eager/def_function.py\u001b[0m in \u001b[0;36m__call__\u001b[0;34m(self, *args, **kwds)\u001b[0m\n\u001b[1;32m    913\u001b[0m \u001b[0;34m\u001b[0m\u001b[0m\n\u001b[1;32m    914\u001b[0m       \u001b[0;32mwith\u001b[0m \u001b[0mOptionalXlaContext\u001b[0m\u001b[0;34m(\u001b[0m\u001b[0mself\u001b[0m\u001b[0;34m.\u001b[0m\u001b[0m_jit_compile\u001b[0m\u001b[0;34m)\u001b[0m\u001b[0;34m:\u001b[0m\u001b[0;34m\u001b[0m\u001b[0;34m\u001b[0m\u001b[0m\n\u001b[0;32m--> 915\u001b[0;31m         \u001b[0mresult\u001b[0m \u001b[0;34m=\u001b[0m \u001b[0mself\u001b[0m\u001b[0;34m.\u001b[0m\u001b[0m_call\u001b[0m\u001b[0;34m(\u001b[0m\u001b[0;34m*\u001b[0m\u001b[0margs\u001b[0m\u001b[0;34m,\u001b[0m \u001b[0;34m**\u001b[0m\u001b[0mkwds\u001b[0m\u001b[0;34m)\u001b[0m\u001b[0;34m\u001b[0m\u001b[0;34m\u001b[0m\u001b[0m\n\u001b[0m\u001b[1;32m    916\u001b[0m \u001b[0;34m\u001b[0m\u001b[0m\n\u001b[1;32m    917\u001b[0m       \u001b[0mnew_tracing_count\u001b[0m \u001b[0;34m=\u001b[0m \u001b[0mself\u001b[0m\u001b[0;34m.\u001b[0m\u001b[0mexperimental_get_tracing_count\u001b[0m\u001b[0;34m(\u001b[0m\u001b[0;34m)\u001b[0m\u001b[0;34m\u001b[0m\u001b[0;34m\u001b[0m\u001b[0m\n",
            "\u001b[0;32m/usr/local/lib/python3.7/dist-packages/tensorflow/python/eager/def_function.py\u001b[0m in \u001b[0;36m_call\u001b[0;34m(self, *args, **kwds)\u001b[0m\n\u001b[1;32m    945\u001b[0m       \u001b[0;31m# In this case we have created variables on the first call, so we run the\u001b[0m\u001b[0;34m\u001b[0m\u001b[0;34m\u001b[0m\u001b[0;34m\u001b[0m\u001b[0m\n\u001b[1;32m    946\u001b[0m       \u001b[0;31m# defunned version which is guaranteed to never create variables.\u001b[0m\u001b[0;34m\u001b[0m\u001b[0;34m\u001b[0m\u001b[0;34m\u001b[0m\u001b[0m\n\u001b[0;32m--> 947\u001b[0;31m       \u001b[0;32mreturn\u001b[0m \u001b[0mself\u001b[0m\u001b[0;34m.\u001b[0m\u001b[0m_stateless_fn\u001b[0m\u001b[0;34m(\u001b[0m\u001b[0;34m*\u001b[0m\u001b[0margs\u001b[0m\u001b[0;34m,\u001b[0m \u001b[0;34m**\u001b[0m\u001b[0mkwds\u001b[0m\u001b[0;34m)\u001b[0m  \u001b[0;31m# pylint: disable=not-callable\u001b[0m\u001b[0;34m\u001b[0m\u001b[0;34m\u001b[0m\u001b[0m\n\u001b[0m\u001b[1;32m    948\u001b[0m     \u001b[0;32melif\u001b[0m \u001b[0mself\u001b[0m\u001b[0;34m.\u001b[0m\u001b[0m_stateful_fn\u001b[0m \u001b[0;32mis\u001b[0m \u001b[0;32mnot\u001b[0m \u001b[0;32mNone\u001b[0m\u001b[0;34m:\u001b[0m\u001b[0;34m\u001b[0m\u001b[0;34m\u001b[0m\u001b[0m\n\u001b[1;32m    949\u001b[0m       \u001b[0;31m# Release the lock early so that multiple threads can perform the call\u001b[0m\u001b[0;34m\u001b[0m\u001b[0;34m\u001b[0m\u001b[0;34m\u001b[0m\u001b[0m\n",
            "\u001b[0;32m/usr/local/lib/python3.7/dist-packages/tensorflow/python/eager/function.py\u001b[0m in \u001b[0;36m__call__\u001b[0;34m(self, *args, **kwargs)\u001b[0m\n\u001b[1;32m   2452\u001b[0m        filtered_flat_args) = self._maybe_define_function(args, kwargs)\n\u001b[1;32m   2453\u001b[0m     return graph_function._call_flat(\n\u001b[0;32m-> 2454\u001b[0;31m         filtered_flat_args, captured_inputs=graph_function.captured_inputs)  # pylint: disable=protected-access\n\u001b[0m\u001b[1;32m   2455\u001b[0m \u001b[0;34m\u001b[0m\u001b[0m\n\u001b[1;32m   2456\u001b[0m   \u001b[0;34m@\u001b[0m\u001b[0mproperty\u001b[0m\u001b[0;34m\u001b[0m\u001b[0;34m\u001b[0m\u001b[0m\n",
            "\u001b[0;32m/usr/local/lib/python3.7/dist-packages/tensorflow/python/eager/function.py\u001b[0m in \u001b[0;36m_call_flat\u001b[0;34m(self, args, captured_inputs, cancellation_manager)\u001b[0m\n\u001b[1;32m   1859\u001b[0m       \u001b[0;31m# No tape is watching; skip to running the function.\u001b[0m\u001b[0;34m\u001b[0m\u001b[0;34m\u001b[0m\u001b[0;34m\u001b[0m\u001b[0m\n\u001b[1;32m   1860\u001b[0m       return self._build_call_outputs(self._inference_function.call(\n\u001b[0;32m-> 1861\u001b[0;31m           ctx, args, cancellation_manager=cancellation_manager))\n\u001b[0m\u001b[1;32m   1862\u001b[0m     forward_backward = self._select_forward_and_backward_functions(\n\u001b[1;32m   1863\u001b[0m         \u001b[0margs\u001b[0m\u001b[0;34m,\u001b[0m\u001b[0;34m\u001b[0m\u001b[0;34m\u001b[0m\u001b[0m\n",
            "\u001b[0;32m/usr/local/lib/python3.7/dist-packages/tensorflow/python/eager/function.py\u001b[0m in \u001b[0;36mcall\u001b[0;34m(self, ctx, args, cancellation_manager)\u001b[0m\n\u001b[1;32m    500\u001b[0m               \u001b[0minputs\u001b[0m\u001b[0;34m=\u001b[0m\u001b[0margs\u001b[0m\u001b[0;34m,\u001b[0m\u001b[0;34m\u001b[0m\u001b[0;34m\u001b[0m\u001b[0m\n\u001b[1;32m    501\u001b[0m               \u001b[0mattrs\u001b[0m\u001b[0;34m=\u001b[0m\u001b[0mattrs\u001b[0m\u001b[0;34m,\u001b[0m\u001b[0;34m\u001b[0m\u001b[0;34m\u001b[0m\u001b[0m\n\u001b[0;32m--> 502\u001b[0;31m               ctx=ctx)\n\u001b[0m\u001b[1;32m    503\u001b[0m         \u001b[0;32melse\u001b[0m\u001b[0;34m:\u001b[0m\u001b[0;34m\u001b[0m\u001b[0;34m\u001b[0m\u001b[0m\n\u001b[1;32m    504\u001b[0m           outputs = execute.execute_with_cancellation(\n",
            "\u001b[0;32m/usr/local/lib/python3.7/dist-packages/tensorflow/python/eager/execute.py\u001b[0m in \u001b[0;36mquick_execute\u001b[0;34m(op_name, num_outputs, inputs, attrs, ctx, name)\u001b[0m\n\u001b[1;32m     53\u001b[0m     \u001b[0mctx\u001b[0m\u001b[0;34m.\u001b[0m\u001b[0mensure_initialized\u001b[0m\u001b[0;34m(\u001b[0m\u001b[0;34m)\u001b[0m\u001b[0;34m\u001b[0m\u001b[0;34m\u001b[0m\u001b[0m\n\u001b[1;32m     54\u001b[0m     tensors = pywrap_tfe.TFE_Py_Execute(ctx._handle, device_name, op_name,\n\u001b[0;32m---> 55\u001b[0;31m                                         inputs, attrs, num_outputs)\n\u001b[0m\u001b[1;32m     56\u001b[0m   \u001b[0;32mexcept\u001b[0m \u001b[0mcore\u001b[0m\u001b[0;34m.\u001b[0m\u001b[0m_NotOkStatusException\u001b[0m \u001b[0;32mas\u001b[0m \u001b[0me\u001b[0m\u001b[0;34m:\u001b[0m\u001b[0;34m\u001b[0m\u001b[0;34m\u001b[0m\u001b[0m\n\u001b[1;32m     57\u001b[0m     \u001b[0;32mif\u001b[0m \u001b[0mname\u001b[0m \u001b[0;32mis\u001b[0m \u001b[0;32mnot\u001b[0m \u001b[0;32mNone\u001b[0m\u001b[0;34m:\u001b[0m\u001b[0;34m\u001b[0m\u001b[0;34m\u001b[0m\u001b[0m\n",
            "\u001b[0;31mKeyboardInterrupt\u001b[0m: "
          ]
        }
      ]
    },
    {
      "cell_type": "code",
      "source": [
        "# evaluate the model    # пропускаем ещё тестовую выборку\n",
        "scores = model.evaluate(X_test, y_test)\n",
        "print(\"\\nAccuracy: %.2f%%\" % (scores[1]*100))"
      ],
      "metadata": {
        "colab": {
          "base_uri": "https://localhost:8080/"
        },
        "id": "fUjx0069JppL",
        "outputId": "1bc22d69-1f7d-41a7-bfd5-8e9e16d27d6e"
      },
      "execution_count": null,
      "outputs": [
        {
          "output_type": "stream",
          "name": "stdout",
          "text": [
            "479/479 [==============================] - 1s 2ms/step - loss: 6.3348e-08 - mae: 0.5478\n",
            "\n",
            "Accuracy: 54.78%\n"
          ]
        }
      ]
    },
    {
      "cell_type": "code",
      "source": [
        "#  Вставляем данные для ПРОГНОЗА  (X-test)\n",
        "\n",
        "# calculate predictions\n",
        "predictions = model.predict(X_test)\n",
        "# round predictions\n",
        "# rounded = [round(x[0]) for x in predictions]\n",
        "# print(rounded)"
      ],
      "metadata": {
        "colab": {
          "base_uri": "https://localhost:8080/"
        },
        "id": "seaslLyDJ7_4",
        "outputId": "38f75cd5-c922-493c-951d-85b294900430"
      },
      "execution_count": null,
      "outputs": [
        {
          "output_type": "stream",
          "name": "stdout",
          "text": [
            "479/479 [==============================] - 1s 2ms/step\n"
          ]
        }
      ]
    },
    {
      "cell_type": "code",
      "source": [
        "print(predictions[0:50])     # смотрим первые 5 предиктов"
      ],
      "metadata": {
        "id": "cEeYYqjQK83o"
      },
      "execution_count": null,
      "outputs": []
    },
    {
      "cell_type": "code",
      "source": [
        "rr = [2600, 2700]\n",
        "print(model.predict([rr]))"
      ],
      "metadata": {
        "colab": {
          "base_uri": "https://localhost:8080/"
        },
        "id": "GuayHxxfaKAp",
        "outputId": "0a9cdc1f-3a31-4f76-f35d-7e044f63f71c"
      },
      "execution_count": null,
      "outputs": [
        {
          "output_type": "stream",
          "name": "stdout",
          "text": [
            "1/1 [==============================] - 0s 38ms/step\n",
            "[[-0.0171493]]\n"
          ]
        }
      ]
    },
    {
      "cell_type": "code",
      "source": [
        "#  новое\n",
        "from keras import optimizers\n",
        "from keras import losses\n"
      ],
      "metadata": {
        "id": "16PO5PYSlCwg"
      },
      "execution_count": null,
      "outputs": []
    },
    {
      "cell_type": "code",
      "source": [
        "# Уточним модель - model2\n",
        "\n",
        "model2 = Sequential()\n",
        "model2.add(Dense(9, input_dim=2, activation='relu'))\n",
        "model2.add(Dense(10, activation='relu' ))\n",
        "model2.add(Dense(3, activation='softmax'))\n",
        "\n",
        "\n",
        "# Compiling model\n",
        "\n",
        "#  model2.compile(loss='categorical_crossentropy', optimizer=sgd2, metrics=['accuracy'])\n",
        "#  model2.compile(loss='categorical_crossentropy', optimizer='adam', metrics=['accuracy'])\n",
        "\n",
        "model2.compile(loss=losses.poisson,\n",
        "optimizer='cosine_proximity')\n",
        "\n",
        "# Training a model\n",
        "model2.fit(X_train, y_train, epochs=20, batch_size=100)"
      ],
      "metadata": {
        "id": "JLmu0kXrkyCg"
      },
      "execution_count": null,
      "outputs": []
    },
    {
      "cell_type": "code",
      "source": [
        "# НастройтеИкса такжеYматрицы для обучающих и тестовых наборов данных. patsy делает это действительно простым\n",
        "\n",
        "y_train, X_train = dmatrices(expr, data_train, return_type='dataframe'),y_test, X_test = dmatrices(expr, data_test, return_type='dataframe')"
      ],
      "metadata": {
        "colab": {
          "base_uri": "https://localhost:8080/",
          "height": 130
        },
        "id": "KiWyiS_o8-bS",
        "outputId": "c83aab0b-8107-493b-a9f9-b2bd6821c28c"
      },
      "execution_count": null,
      "outputs": [
        {
          "output_type": "error",
          "ename": "SyntaxError",
          "evalue": "ignored",
          "traceback": [
            "\u001b[0;36m  File \u001b[0;32m\"<ipython-input-68-c4022f54a242>\"\u001b[0;36m, line \u001b[0;32m3\u001b[0m\n\u001b[0;31m    y_train, X_train = dmatrices(expr, data_train, return_type='dataframe'),y_test, X_test = dmatrices(expr, data_test, return_type='dataframe')\u001b[0m\n\u001b[0m                      ^\u001b[0m\n\u001b[0;31mSyntaxError\u001b[0m\u001b[0;31m:\u001b[0m can't assign to function call\n"
          ]
        }
      ]
    },
    {
      "cell_type": "code",
      "source": [
        "import asyncio, datetime, requests, json\n",
        "ABLY_AUTH_URL = \"https://api.sx.bet/user/token\"\n",
        "headers={\"X-Api-Key\": \"}\n",
        "#-------------------------------------------------------------------\n",
        "\n",
        "ably_auth_token = requests.get(ABLY_AUTH_URL, headers={\"x-api-key\": \"\"})\n",
        "ably_auth_token.json()"
      ],
      "metadata": {
        "colab": {
          "base_uri": "https://localhost:8080/"
        },
        "id": "2BD4Ir4MR6FO",
        "outputId": "8b3284f0-34b3-452b-8eba-40bfcf584ebd"
      },
      "execution_count": 2,
      "outputs": [
        {
          "output_type": "execute_result",
          "data": {
            "text/plain": [
              "{'keyName': 'Pb_c6A.2IZKTQ',\n",
              " 'clientId': 'Guest',\n",
              " 'capability': '{\"*\":[\"subscribe\"],\"chat:*\":[\"presence\",\"subscribe\"]}',\n",
              " 'timestamp': 1695342397211,\n",
              " 'nonce': '2478285353147487',\n",
              " 'mac': 'qL0NT8qTiKLeq4q2sewjt5VdMvR4S7015V2eZXTj9SI='}"
            ]
          },
          "metadata": {},
          "execution_count": 2
        }
      ]
    },
    {
      "cell_type": "code",
      "source": [
        "import asyncio, datetime, requests, json\n",
        "from ably import AblyRealtime\n",
        "from ably import AblyRest\n",
        "\n",
        "import nest_asyncio\n",
        "nest_asyncio.apply()\n",
        "\n",
        "# Установка библиотеки ably (специальная бета версия, которая поддерживает realtime client (обычная версия поддерживает только rest client)):\n",
        "# pip install ably==2.0.0b6\n",
        "\n",
        "### Получение списка активных рынков ######################################################################################\n",
        "\n",
        "\n",
        "\n",
        "### Прослушивание данных в режиме реального времени  ######################################################################\n",
        "\n",
        "async def main():\n",
        "    def listener(message):\n",
        "        # пример получаемого результата:\n",
        "        # * message.name = markets\n",
        "        # * message.data = [{'status': 'ACTIVE', 'marketHash': '0x114af00370072ff1192c3feb991b6636413f6444feee34beee771de956025711', 'outcomeOneName': 'AC Ajaccio', 'outcomeTwoName': 'Not AC Ajaccio', 'outcomeVoidName': 'NO_CONTEST', 'teamOneName': 'Lens', 'teamTwoName': 'AC Ajaccio', 'participantOneId': 830, 'participantTwoId': 1760, 'type': 1, 'gameTime': 1685214000, 'sportXeventId': 'L10649159', 'liveEnabled': True, 'sportLabel': 'Soccer', 'sportId': 5, 'leagueId': 1112, 'homeTeamFirst': True, 'leagueLabel': 'Ligue 1', 'group1': 'Ligue 1'}, {'status': 'ACTIVE', 'marketHash': '0xfa3b892e08b0cdfd4821876a0fde99d3587079a5c03389697d6f1019e206cb5e', 'outcomeOneName': 'Tie', 'outcomeTwoName': 'Not tie', 'outcomeVoidName': 'NO_CONTEST', 'teamOneName': 'Lens', 'teamTwoName': 'AC Ajaccio', 'participantOneId': 830, 'participantTwoId': 1760, 'type': 1, 'gameTime': 1685214000, 'sportXeventId': 'L10649159', 'liveEnabled': True, 'sportLabel': 'Soccer', 'sportId': 5, 'leagueId': 1112, 'homeTeamFirst': True, 'leagueLabel': 'Ligue 1', 'group1': 'Ligue 1'}, {'status': 'ACTIVE', 'marketHash': '0xa496abb3369f6cd0747fd0b8ee7b95effaaeb5cd719c0370e6ac0a91498db11c', 'outcomeOneName': 'Lens', 'outcomeTwoName': 'Not Lens', 'outcomeVoidName': 'NO_CONTEST', 'teamOneName': 'Lens', 'teamTwoName': 'AC Ajaccio', 'participantOneId': 830, 'participantTwoId': 1760, 'type': 1, 'gameTime': 1685214000, 'sportXeventId': 'L10649159', 'liveEnabled': True, 'sportLabel': 'Soccer', 'sportId': 5, 'leagueId': 1112, 'homeTeamFirst': True, 'leagueLabel': 'Ligue 1', 'group1': 'Ligue 1'}, {'status': 'ACTIVE', 'marketHash': '0xf5b7df0825cee4a699c049177cd2a2d20ea4d2d479420997f70b01ccfcdcd806', 'outcomeOneName': 'Over 2.5', 'outcomeTwoName': 'Under 2.5', 'outcomeVoidName': 'NO_GAME_OR_EVEN', 'teamOneName': 'Lens', 'teamTwoName': 'AC Ajaccio', 'participantOneId': 830, 'participantTwoId': 1760, 'type': 2, 'gameTime': 1685214000, 'line': 2.5, 'sportXeventId': 'L10649159', 'liveEnabled': True, 'sportLabel': 'Soccer', 'sportId': 5, 'leagueId': 1112, 'homeTeamFirst': True, 'leagueLabel': 'Ligue 1', 'group1': 'Ligue 1'}, {'status': 'ACTIVE', 'marketHash': '0xdf19d1ff80ad82c5e2647214f9113d3e1f2c6491c7fc146a0a03ea90c7f60ec2', 'outcomeOneName': 'Over 3.0', 'outcomeTwoName': 'Under 3.0', 'outcomeVoidName': 'NO_GAME_OR_EVEN', 'teamOneName': 'Lens', 'teamTwoName': 'AC Ajaccio', 'participantOneId': 830, 'participantTwoId': 1760, 'type': 2, 'gameTime': 1685214000, 'line': 3, 'sportXeventId': 'L10649159', 'liveEnabled': True, 'sportLabel': 'Soccer', 'sportId': 5, 'leagueId': 1112, 'homeTeamFirst': True, 'leagueLabel': 'Ligue 1', 'group1': 'Ligue 1'}, {'status': 'ACTIVE', 'marketHash': '0xa91064d8967f97c2340548e441757802f8c9d8bd238fcbee0ef4f77c32d6f479', 'outcomeOneName': 'Lens -1.5', 'outcomeTwoName': 'AC Ajaccio +1.5', 'outcomeVoidName': 'NO_GAME_OR_EVEN', 'teamOneName': 'Lens', 'teamTwoName': 'AC Ajaccio', 'participantOneId': 830, 'participantTwoId': 1760, 'type': 3, 'gameTime': 1685214000, 'line': -1.5, 'sportXeventId': 'L10649159', 'liveEnabled': True, 'sportLabel': 'Soccer', 'sportId': 5, 'leagueId': 1112, 'homeTeamFirst': True, 'leagueLabel': 'Ligue 1', 'group1': 'Ligue 1'}, {'status': 'ACTIVE', 'marketHash': '0x729957ccbf7e172fd0acabba1e5855e1f246f14b8b9dc609585f798ba544d169', 'outcomeOneName': 'Over 1.0', 'outcomeTwoName': 'Under 1.0', 'outcomeVoidName': 'NO_GAME_OR_EVEN', 'teamOneName': 'Lens', 'teamTwoName': 'AC Ajaccio', 'participantOneId': 830, 'participantTwoId': 1760, 'type': 2, 'gameTime': 1685214000, 'line': 1, 'sportXeventId': 'L10649159', 'liveEnabled': True, 'sportLabel': 'Soccer', 'sportId': 5, 'leagueId': 1112, 'homeTeamFirst': True, 'leagueLabel': 'Ligue 1', 'group1': 'Ligue 1'}, {'status': 'ACTIVE', 'marketHash': '0xc3669241b0adae9e97bdf730afa8db554cfda5d43a1950fe6f7e166ae324b077', 'outcomeOneName': 'Over 4.0', 'outcomeTwoName': 'Under 4.0', 'outcomeVoidName': 'NO_GAME_OR_EVEN', 'teamOneName': 'Lens', 'teamTwoName': 'AC Ajaccio', 'participantOneId': 830, 'participantTwoId': 1760, 'type': 2, 'gameTime': 1685214000, 'line': 4, 'sportXeventId': 'L10649159', 'liveEnabled': True, 'sportLabel': 'Soccer', 'sportId': 5, 'leagueId': 1112, 'homeTeamFirst': True, 'leagueLabel': 'Ligue 1', 'group1': 'Ligue 1'}, {'status': 'ACTIVE', 'marketHash': '0xc4d325bea7f5100910c707ae7e3dcbfca1dd4466782fb840f57142c0c094a3b1', 'outcomeOneName': 'Over 3.5', 'outcomeTwoName': 'Under 3.5', 'outcomeVoidName': 'NO_GAME_OR_EVEN', 'teamOneName': 'Lens', 'teamTwoName': 'AC Ajaccio', 'participantOneId': 830, 'participantTwoId': 1760, 'type': 2, 'gameTime': 1685214000, 'line': 3.5, 'sportXeventId': 'L10649159', 'liveEnabled': True, 'sportLabel': 'Soccer', 'sportId': 5, 'leagueId': 1112, 'homeTeamFirst': True, 'leagueLabel': 'Ligue 1', 'group1': 'Ligue 1'}, {'status': 'ACTIVE', 'marketHash': '0xba62492d3ff8633348df69b34fe4ab684fd13ddcc3f183348314fa026314600d', 'outcomeOneName': 'Over 5.5', 'outcomeTwoName': 'Under 5.5', 'outcomeVoidName': 'NO_GAME_OR_EVEN', 'teamOneName': 'Lens', 'teamTwoName': 'AC Ajaccio', 'participantOneId': 830, 'participantTwoId': 1760, 'type': 2, 'gameTime': 1685214000, 'line': 5.5, 'sportXeventId': 'L10649159', 'liveEnabled': True, 'sportLabel': 'Soccer', 'sportId': 5, 'leagueId': 1112, 'homeTeamFirst': True, 'leagueLabel': 'Ligue 1', 'group1': 'Ligue 1'}, {'status': 'ACTIVE', 'marketHash': '0xf6f1db57bcf8636e52e8345538722e0661ce837922fea3880d2f447d5a54583c', 'outcomeOneName': 'Over 6.5', 'outcomeTwoName': 'Under 6.5', 'outcomeVoidName': 'NO_GAME_OR_EVEN', 'teamOneName': 'Lens', 'teamTwoName': 'AC Ajaccio', 'participantOneId': 830, 'participantTwoId': 1760, 'type': 2, 'gameTime': 1685214000, 'line': 6.5, 'sportXeventId': 'L10649159', 'liveEnabled': True, 'sportLabel': 'Soccer', 'sportId': 5, 'leagueId': 1112, 'homeTeamFirst': True, 'leagueLabel': 'Ligue 1', 'group1': 'Ligue 1'}, {'status': 'ACTIVE', 'marketHash': '0xd3c71ec6585748d417049cf26686b71f3ca0cb74776c951b6cbf0afe8f94349e', 'outcomeOneName': 'Over 4.5', 'outcomeTwoName': 'Under 4.5', 'outcomeVoidName': 'NO_GAME_OR_EVEN', 'teamOneName': 'Lens', 'teamTwoName': 'AC Ajaccio', 'participantOneId': 830, 'participantTwoId': 1760, 'type': 2, 'gameTime': 1685214000, 'line': 4.5, 'sportXeventId': 'L10649159', 'liveEnabled': True, 'sportLabel': 'Soccer', 'sportId': 5, 'leagueId': 1112, 'homeTeamFirst': True, 'leagueLabel': 'Ligue 1', 'group1': 'Ligue 1'}, {'status': 'ACTIVE', 'marketHash': '0xfbf48f751ce0d34606646b53caa3f4995129f334f5207994caf7b408729671c2', 'outcomeOneName': 'Over 5.0', 'outcomeTwoName': 'Under 5.0', 'outcomeVoidName': 'NO_GAME_OR_EVEN', 'teamOneName': 'Lens', 'teamTwoName': 'AC Ajaccio', 'participantOneId': 830, 'participantTwoId': 1760, 'type': 2, 'gameTime': 1685214000, 'line': 5, 'sportXeventId': 'L10649159', 'liveEnabled': True, 'sportLabel': 'Soccer', 'sportId': 5, 'leagueId': 1112, 'homeTeamFirst': True, 'leagueLabel': 'Ligue 1', 'group1': 'Ligue 1'}, {'status': 'ACTIVE', 'marketHash': '0xe013d35475b85270135beeaa1cd7bc869959c7bba33b687964e835614306eded', 'outcomeOneName': 'Over 2.0', 'outcomeTwoName': 'Under 2.0', 'outcomeVoidName': 'NO_GAME_OR_EVEN', 'teamOneName': 'Lens', 'teamTwoName': 'AC Ajaccio', 'participantOneId': 830, 'participantTwoId': 1760, 'type': 2, 'gameTime': 1685214000, 'line': 2, 'sportXeventId': 'L10649159', 'liveEnabled': True, 'sportLabel': 'Soccer', 'sportId': 5, 'leagueId': 1112, 'homeTeamFirst': True, 'leagueLabel': 'Ligue 1', 'group1': 'Ligue 1'}, {'status': 'ACTIVE', 'marketHash': '0xea1b7b9698794bcda525d7840232f62559782ed4ac79a0417da56f2b0ccff696', 'outcomeOneName': 'Lens', 'outcomeTwoName': 'AC Ajaccio', 'outcomeVoidName': 'NO_CONTEST', 'teamOneName': 'Lens', 'teamTwoName': 'AC Ajaccio', 'participantOneId': 830, 'participantTwoId': 1760, 'type': 52, 'gameTime': 1685214000, 'sportXeventId': 'L10649159', 'liveEnabled': True, 'sportLabel': 'Soccer', 'sportId': 5, 'leagueId': 1112, 'homeTeamFirst': True, 'leagueLabel': 'Ligue 1', 'group1': 'Ligue 1'}, {'status': 'ACTIVE', 'marketHash': '0xf73977f9b051a28c340271880e2da83edf16c6288061870b836ec26672b0431f', 'outcomeOneName': 'Lens -1.75', 'outcomeTwoName': 'AC Ajaccio +1.75', 'outcomeVoidName': 'NO_GAME_OR_EVEN', 'teamOneName': 'Lens', 'teamTwoName': 'AC Ajaccio', 'participantOneId': 830, 'participantTwoId': 1760, 'type': 3, 'gameTime': 1685214000, 'line': -1.75, 'sportXeventId': 'L10649159', 'liveEnabled': True, 'sportLabel': 'Soccer', 'sportId': 5, 'leagueId': 1112, 'homeTeamFirst': True, 'leagueLabel': 'Ligue 1', 'group1': 'Ligue 1'}, {'status': 'ACTIVE', 'marketHash': '0x1596fa7b64969d85a1318339534de594d619ce1f1cef97a12cdcdffa750aeba0', 'outcomeOneName': 'Over 1.5', 'outcomeTwoName': 'Under 1.5', 'outcomeVoidName': 'NO_GAME_OR_EVEN', 'teamOneName': 'Lens', 'teamTwoName': 'AC Ajaccio', 'participantOneId': 830, 'participantTwoId': 1760, 'type': 2, 'gameTime': 1685214000, 'line': 1.5, 'sportXeventId': 'L10649159', 'liveEnabled': True, 'sportLabel': 'Soccer', 'sportId': 5, 'leagueId': 1112, 'homeTeamFirst': True, 'leagueLabel': 'Ligue 1', 'group1': 'Ligue 1'}, {'status': 'ACTIVE', 'marketHash': '0x99689d8e2f31e36bf4fdc817f6c24f54fdcc2f943647c9ffaea46e80c9bae3f6', 'outcomeOneName': 'Over 0.5', 'outcomeTwoName': 'Under 0.5', 'outcomeVoidName': 'NO_GAME_OR_EVEN', 'teamOneName': 'Lens', 'teamTwoName': 'AC Ajaccio', 'participantOneId': 830, 'participantTwoId': 1760, 'type': 2, 'gameTime': 1685214000, 'line': 0.5, 'sportXeventId': 'L10649159', 'liveEnabled': True, 'sportLabel': 'Soccer', 'sportId': 5, 'leagueId': 1112, 'homeTeamFirst': True, 'leagueLabel': 'Ligue 1', 'group1': 'Ligue 1'}, {'status': 'ACTIVE', 'marketHash': '0x8c538867d91cb1b1428e303a6dfd863ac29fc18f63947f13eadf72e5050456e3', 'outcomeOneName': 'Lens -1', 'outcomeTwoName': 'AC Ajaccio +1', 'outcomeVoidName': 'NO_GAME_OR_EVEN', 'teamOneName': 'Lens', 'teamTwoName': 'AC Ajaccio', 'participantOneId': 830, 'participantTwoId': 1760, 'type': 3, 'gameTime': 1685214000, 'line': -1, 'sportXeventId': 'L10649159', 'liveEnabled': True, 'sportLabel': 'Soccer', 'sportId': 5, 'leagueId': 1112, 'homeTeamFirst': True, 'leagueLabel': 'Ligue 1', 'group1': 'Ligue 1'}, {'status': 'ACTIVE', 'marketHash': '0xd037fcc5a1323250c990787f22063e19d4b06ed7e80e7ca6f3ecd77f8213d107', 'outcomeOneName': 'Lens -2.5', 'outcomeTwoName': 'AC Ajaccio +2.5', 'outcomeVoidName': 'NO_GAME_OR_EVEN', 'teamOneName': 'Lens', 'teamTwoName': 'AC Ajaccio', 'participantOneId': 830, 'participantTwoId': 1760, 'type': 3, 'gameTime': 1685214000, 'line': -2.5, 'sportXeventId': 'L10649159', 'liveEnabled': True, 'sportLabel': 'Soccer', 'sportId': 5, 'leagueId': 1112, 'homeTeamFirst': True, 'leagueLabel': 'Ligue 1', 'group1': 'Ligue 1'}, {'status': 'ACTIVE', 'marketHash': '0x76312a7b27146046a6718c2e20101796b4778ad5e10be3c2154dde6fb9d87ffa', 'outcomeOneName': 'Lens 0', 'outcomeTwoName': 'AC Ajaccio 0', 'outcomeVoidName': 'NO_GAME_OR_EVEN', 'teamOneName': 'Lens', 'teamTwoName': 'AC Ajaccio', 'participantOneId': 830, 'participantTwoId': 1760, 'type': 3, 'gameTime': 1685214000, 'line': 0, 'sportXeventId': 'L10649159', 'liveEnabled': True, 'sportLabel': 'Soccer', 'sportId': 5, 'leagueId': 1112, 'homeTeamFirst': True, 'leagueLabel': 'Ligue 1', 'group1': 'Ligue 1'}, {'status': 'ACTIVE', 'marketHash': '0x1e8aa97c7b3eae7690380d9d032e249790c51279216cf4ed6b7e46bd05e794e9', 'outcomeOneName': 'Lens -0.25', 'outcomeTwoName': 'AC Ajaccio +0.25', 'outcomeVoidName': 'NO_GAME_OR_EVEN', 'teamOneName': 'Lens', 'teamTwoName': 'AC Ajaccio', 'participantOneId': 830, 'participantTwoId': 1760, 'type': 3, 'gameTime': 1685214000, 'line': -0.25, 'sportXeventId': 'L10649159', 'liveEnabled': True, 'sportLabel': 'Soccer', 'sportId': 5, 'leagueId': 1112, 'homeTeamFirst': True, 'leagueLabel': 'Ligue 1', 'group1': 'Ligue 1'}, {'status': 'ACTIVE', 'marketHash': '0xcac7bdaca59c9f82363d5bca042469361a3c062cf251dcf3793342043465a21c', 'outcomeOneName': 'Lens -4.5', 'outcomeTwoName': 'AC Ajaccio +4.5', 'outcomeVoidName': 'NO_GAME_OR_EVEN', 'teamOneName': 'Lens', 'teamTwoName': 'AC Ajaccio', 'participantOneId': 830, 'participantTwoId': 1760, 'type': 3, 'gameTime': 1685214000, 'line': -4.5, 'sportXeventId': 'L10649159', 'liveEnabled': True, 'sportLabel': 'Soccer', 'sportId': 5, 'leagueId': 1112, 'homeTeamFirst': True, 'leagueLabel': 'Ligue 1', 'group1': 'Ligue 1'}, {'status': 'ACTIVE', 'marketHash': '0xd743da94c7b7cfc6a18abc75bf93765e63c0892f8ea48a6d0137bb8dbfb6f16c', 'outcomeOneName': 'Lens -3', 'outcomeTwoName': 'AC Ajaccio +3', 'outcomeVoidName': 'NO_GAME_OR_EVEN', 'teamOneName': 'Lens', 'teamTwoName': 'AC Ajaccio', 'participantOneId': 830, 'participantTwoId': 1760, 'type': 3, 'gameTime': 1685214000, 'line': -3, 'sportXeventId': 'L10649159', 'liveEnabled': True, 'sportLabel': 'Soccer', 'sportId': 5, 'leagueId': 1112, 'homeTeamFirst': True, 'leagueLabel': 'Ligue 1', 'group1': 'Ligue 1'}, {'status': 'ACTIVE', 'marketHash': '0x4e757b14d2a6dbf9097ab6988bb558d684bdc89766a3caed9dc9508924dee7e1', 'outcomeOneName': 'Lens -1.25', 'outcomeTwoName': 'AC Ajaccio +1.25', 'outcomeVoidName': 'NO_GAME_OR_EVEN', 'teamOneName': 'Lens', 'teamTwoName': 'AC Ajaccio', 'participantOneId': 830, 'participantTwoId': 1760, 'type': 3, 'gameTime': 1685214000, 'line': -1.25, 'sportXeventId': 'L10649159', 'liveEnabled': True, 'sportLabel': 'Soccer', 'sportId': 5, 'leagueId': 1112, 'homeTeamFirst': True, 'leagueLabel': 'Ligue 1', 'group1': 'Ligue 1'}, {'status': 'ACTIVE', 'marketHash': '0x388923d4254e29607e308cf7f4dc948492243daccd8e6ddbc7a4d6383e7971d9', 'outcomeOneName': 'Lens -2.75', 'outcomeTwoName': 'AC Ajaccio +2.75', 'outcomeVoidName': 'NO_GAME_OR_EVEN', 'teamOneName': 'Lens', 'teamTwoName': 'AC Ajaccio', 'participantOneId': 830, 'participantTwoId': 1760, 'type': 3, 'gameTime': 1685214000, 'line': -2.75, 'sportXeventId': 'L10649159', 'liveEnabled': True, 'sportLabel': 'Soccer', 'sportId': 5, 'leagueId': 1112, 'homeTeamFirst': True, 'leagueLabel': 'Ligue 1', 'group1': 'Ligue 1'}, {'status': 'ACTIVE', 'marketHash': '0x5074c2a19e186dd3c511269806ad6d4add2df1499c9f7ea7f3c7cf8ff7c2c0c2', 'outcomeOneName': 'Lens -2.25', 'outcomeTwoName': 'AC Ajaccio +2.25', 'outcomeVoidName': 'NO_GAME_OR_EVEN', 'teamOneName': 'Lens', 'teamTwoName': 'AC Ajaccio', 'participantOneId': 830, 'participantTwoId': 1760, 'type': 3, 'gameTime': 1685214000, 'line': -2.25, 'sportXeventId': 'L10649159', 'liveEnabled': True, 'sportLabel': 'Soccer', 'sportId': 5, 'leagueId': 1112, 'homeTeamFirst': True, 'leagueLabel': 'Ligue 1', 'group1': 'Ligue 1'}, {'status': 'ACTIVE', 'marketHash': '0xe51a2ca69fcbe205f7138873e77c6de86822ba5c92105c6b5af6ab9b9db58647', 'outcomeOneName': 'Lens -4', 'outcomeTwoName': 'AC Ajaccio +4', 'outcomeVoidName': 'NO_GAME_OR_EVEN', 'teamOneName': 'Lens', 'teamTwoName': 'AC Ajaccio', 'participantOneId': 830, 'participantTwoId': 1760, 'type': 3, 'gameTime': 1685214000, 'line': -4, 'sportXeventId': 'L10649159', 'liveEnabled': True, 'sportLabel': 'Soccer', 'sportId': 5, 'leagueId': 1112, 'homeTeamFirst': True, 'leagueLabel': 'Ligue 1', 'group1': 'Ligue 1'}, {'status': 'ACTIVE', 'marketHash': '0x7fed41125c00fc8a04fe76e2807cb572baa5e818e8cb08cad1e334b191e38382', 'outcomeOneName': 'Lens -0.75', 'outcomeTwoName': 'AC Ajaccio +0.75', 'outcomeVoidName': 'NO_GAME_OR_EVEN', 'teamOneName': 'Lens', 'teamTwoName': 'AC Ajaccio', 'participantOneId': 830, 'participantTwoId': 1760, 'type': 3, 'gameTime': 1685214000, 'line': -0.75, 'sportXeventId': 'L10649159', 'liveEnabled': True, 'sportLabel': 'Soccer', 'sportId': 5, 'leagueId': 1112, 'homeTeamFirst': True, 'leagueLabel': 'Ligue 1', 'group1': 'Ligue 1'}, {'status': 'ACTIVE', 'marketHash': '0xc18f652a94802b7913429a36d2bf3914d89d16e4954ef504cab7fa0830bab8e0', 'outcomeOneName': 'Lens -3.5', 'outcomeTwoName': 'AC Ajaccio +3.5', 'outcomeVoidName': 'NO_GAME_OR_EVEN', 'teamOneName': 'Lens', 'teamTwoName': 'AC Ajaccio', 'participantOneId': 830, 'participantTwoId': 1760, 'type': 3, 'gameTime': 1685214000, 'line': -3.5, 'sportXeventId': 'L10649159', 'liveEnabled': True, 'sportLabel': 'Soccer', 'sportId': 5, 'leagueId': 1112, 'homeTeamFirst': True, 'leagueLabel': 'Ligue 1', 'group1': 'Ligue 1'}, {'status': 'ACTIVE', 'marketHash': '0xc02d43a45c87b97bd91e8499ddda4b4c2c530c4e4a202d0db36c39a2de4a6eb4', 'outcomeOneName': 'Lens -3.75', 'outcomeTwoName': 'AC Ajaccio +3.75', 'outcomeVoidName': 'NO_GAME_OR_EVEN', 'teamOneName': 'Lens', 'teamTwoName': 'AC Ajaccio', 'participantOneId': 830, 'participantTwoId': 1760, 'type': 3, 'gameTime': 1685214000, 'line': -3.75, 'sportXeventId': 'L10649159', 'liveEnabled': True, 'sportLabel': 'Soccer', 'sportId': 5, 'leagueId': 1112, 'homeTeamFirst': True, 'leagueLabel': 'Ligue 1', 'group1': 'Ligue 1'}, {'status': 'ACTIVE', 'marketHash': '0x6c9890ee9578b043c8facce0fdfe34dcf0f72b92fe8376d6a9c3217d61fc4894', 'outcomeOneName': 'Lens -3.25', 'outcomeTwoName': 'AC Ajaccio +3.25', 'outcomeVoidName': 'NO_GAME_OR_EVEN', 'teamOneName': 'Lens', 'teamTwoName': 'AC Ajaccio', 'participantOneId': 830, 'participantTwoId': 1760, 'type': 3, 'gameTime': 1685214000, 'line': -3.25, 'sportXeventId': 'L10649159', 'liveEnabled': True, 'sportLabel': 'Soccer', 'sportId': 5, 'leagueId': 1112, 'homeTeamFirst': True, 'leagueLabel': 'Ligue 1', 'group1': 'Ligue 1'}]\n",
        "        msg = f\"datetime={datetime.datetime.now()}, message_name={message.name}, message_data={message.data}\"\n",
        "        print(msg)\n",
        "        # сохранение поступающих сообщений в текстовый файл\n",
        "        with open(\"messages.txt\", \"a\") as f:\n",
        "            f.write(msg)\n",
        "            f.write(\"\\n\")\n",
        "\n",
        "    async with AblyRealtime(auth_url=\"https://api.sx.bet/user/token\") as client:\n",
        "        await client.connection.once_async(\"connected\")\n",
        "        await asyncio.sleep(1)\n",
        "\n",
        "        # измерение пинга\n",
        "        ping_time_in_ms = await client.connection.ping()\n",
        "        print(f\"ping_time_in_ms={ping_time_in_ms}\")\n",
        "\n",
        "        # список основых каналов\n",
        "        channels_names = [\"markets\", \"main_line\", \"recent_trades\"]\n",
        "\n",
        "        # добавление каналов для всех текущих спортивных событий\n",
        "\n",
        "\n",
        "        # подписка на несколько каналов\n",
        "        for channel_name in channels_names:\n",
        "            print(f\"subscribing to channel {channel_name}...\")\n",
        "            channel = client.channels.get(channel_name)\n",
        "            await channel.attach()\n",
        "            await asyncio.sleep(1)\n",
        "            await channel.subscribe(listener)\n",
        "        print(\"listening...\")\n",
        "        await asyncio.Future() # listen forever\n",
        "\n",
        "        await client.close()\n",
        "\n",
        "loop = asyncio.get_event_loop()\n",
        "result = loop.run_until_complete(main())"
      ],
      "metadata": {
        "id": "7hKzN8s5SFAW"
      },
      "execution_count": null,
      "outputs": []
    },
    {
      "cell_type": "code",
      "source": [
        "pip install ably"
      ],
      "metadata": {
        "colab": {
          "base_uri": "https://localhost:8080/"
        },
        "id": "sKnbCEFrSJ1M",
        "outputId": "7886b798-52e2-4a32-f778-41b2c83a3d1b"
      },
      "execution_count": 4,
      "outputs": [
        {
          "output_type": "stream",
          "name": "stdout",
          "text": [
            "Collecting ably\n",
            "  Downloading ably-2.0.1-py3-none-any.whl (58 kB)\n",
            "\u001b[2K     \u001b[90m━━━━━━━━━━━━━━━━━━━━━━━━━━━━━━━━━━━━━━━━\u001b[0m \u001b[32m58.6/58.6 kB\u001b[0m \u001b[31m1.2 MB/s\u001b[0m eta \u001b[36m0:00:00\u001b[0m\n",
            "\u001b[?25hCollecting h2<5.0.0,>=4.0.0 (from ably)\n",
            "  Downloading h2-4.1.0-py3-none-any.whl (57 kB)\n",
            "\u001b[2K     \u001b[90m━━━━━━━━━━━━━━━━━━━━━━━━━━━━━━━━━━━━━━━━\u001b[0m \u001b[32m57.5/57.5 kB\u001b[0m \u001b[31m4.2 MB/s\u001b[0m eta \u001b[36m0:00:00\u001b[0m\n",
            "\u001b[?25hCollecting httpx<0.24.0,>=0.23.0 (from ably)\n",
            "  Downloading httpx-0.23.3-py3-none-any.whl (71 kB)\n",
            "\u001b[2K     \u001b[90m━━━━━━━━━━━━━━━━━━━━━━━━━━━━━━━━━━━━━━━━\u001b[0m \u001b[32m71.5/71.5 kB\u001b[0m \u001b[31m8.1 MB/s\u001b[0m eta \u001b[36m0:00:00\u001b[0m\n",
            "\u001b[?25hCollecting methoddispatch<4.0.0,>=3.0.2 (from ably)\n",
            "  Downloading methoddispatch-3.0.2-py2.py3-none-any.whl (15 kB)\n",
            "Requirement already satisfied: msgpack<2.0.0,>=1.0.0 in /usr/local/lib/python3.10/dist-packages (from ably) (1.0.5)\n",
            "Collecting pyee<10.0.0,>=9.0.4 (from ably)\n",
            "  Downloading pyee-9.1.1-py2.py3-none-any.whl (15 kB)\n",
            "Collecting websockets<11.0,>=10.3 (from ably)\n",
            "  Downloading websockets-10.4-cp310-cp310-manylinux_2_5_x86_64.manylinux1_x86_64.manylinux_2_17_x86_64.manylinux2014_x86_64.whl (106 kB)\n",
            "\u001b[2K     \u001b[90m━━━━━━━━━━━━━━━━━━━━━━━━━━━━━━━━━━━━━━\u001b[0m \u001b[32m106.8/106.8 kB\u001b[0m \u001b[31m11.7 MB/s\u001b[0m eta \u001b[36m0:00:00\u001b[0m\n",
            "\u001b[?25hCollecting hyperframe<7,>=6.0 (from h2<5.0.0,>=4.0.0->ably)\n",
            "  Downloading hyperframe-6.0.1-py3-none-any.whl (12 kB)\n",
            "Collecting hpack<5,>=4.0 (from h2<5.0.0,>=4.0.0->ably)\n",
            "  Downloading hpack-4.0.0-py3-none-any.whl (32 kB)\n",
            "Requirement already satisfied: certifi in /usr/local/lib/python3.10/dist-packages (from httpx<0.24.0,>=0.23.0->ably) (2023.7.22)\n",
            "Collecting httpcore<0.17.0,>=0.15.0 (from httpx<0.24.0,>=0.23.0->ably)\n",
            "  Downloading httpcore-0.16.3-py3-none-any.whl (69 kB)\n",
            "\u001b[2K     \u001b[90m━━━━━━━━━━━━━━━━━━━━━━━━━━━━━━━━━━━━━━━━\u001b[0m \u001b[32m69.6/69.6 kB\u001b[0m \u001b[31m6.0 MB/s\u001b[0m eta \u001b[36m0:00:00\u001b[0m\n",
            "\u001b[?25hCollecting rfc3986[idna2008]<2,>=1.3 (from httpx<0.24.0,>=0.23.0->ably)\n",
            "  Downloading rfc3986-1.5.0-py2.py3-none-any.whl (31 kB)\n",
            "Requirement already satisfied: sniffio in /usr/local/lib/python3.10/dist-packages (from httpx<0.24.0,>=0.23.0->ably) (1.3.0)\n",
            "Requirement already satisfied: typing-extensions in /usr/local/lib/python3.10/dist-packages (from pyee<10.0.0,>=9.0.4->ably) (4.5.0)\n",
            "Collecting h11<0.15,>=0.13 (from httpcore<0.17.0,>=0.15.0->httpx<0.24.0,>=0.23.0->ably)\n",
            "  Downloading h11-0.14.0-py3-none-any.whl (58 kB)\n",
            "\u001b[2K     \u001b[90m━━━━━━━━━━━━━━━━━━━━━━━━━━━━━━━━━━━━━━━━\u001b[0m \u001b[32m58.3/58.3 kB\u001b[0m \u001b[31m5.8 MB/s\u001b[0m eta \u001b[36m0:00:00\u001b[0m\n",
            "\u001b[?25hRequirement already satisfied: anyio<5.0,>=3.0 in /usr/local/lib/python3.10/dist-packages (from httpcore<0.17.0,>=0.15.0->httpx<0.24.0,>=0.23.0->ably) (3.7.1)\n",
            "Requirement already satisfied: idna in /usr/local/lib/python3.10/dist-packages (from rfc3986[idna2008]<2,>=1.3->httpx<0.24.0,>=0.23.0->ably) (3.4)\n",
            "Requirement already satisfied: exceptiongroup in /usr/local/lib/python3.10/dist-packages (from anyio<5.0,>=3.0->httpcore<0.17.0,>=0.15.0->httpx<0.24.0,>=0.23.0->ably) (1.1.3)\n",
            "Installing collected packages: rfc3986, methoddispatch, websockets, pyee, hyperframe, hpack, h11, httpcore, h2, httpx, ably\n",
            "Successfully installed ably-2.0.1 h11-0.14.0 h2-4.1.0 hpack-4.0.0 httpcore-0.16.3 httpx-0.23.3 hyperframe-6.0.1 methoddispatch-3.0.2 pyee-9.1.1 rfc3986-1.5.0 websockets-10.4\n"
          ]
        }
      ]
    },
    {
      "cell_type": "code",
      "source": [
        "import asyncio, datetime, requests, json\n",
        "from ably import AblyRealtime\n",
        "from ably import AblyRest\n",
        "\n",
        "import nest_asyncio\n",
        "nest_asyncio.apply()\n",
        "\n",
        "\n",
        "async def main():\n",
        "    ably = AblyRealtime(auth_url=\"https://api.sx.bet/user/token\", auth_headers={\"X-Api-Key\": \"})\n",
        "    await ably.connection.once_async('connected')\n",
        "    print('Connected to Ably')\n",
        "\n",
        "\n",
        "asyncio.run(main())"
      ],
      "metadata": {
        "colab": {
          "base_uri": "https://localhost:8080/"
        },
        "id": "PeHSgEpFSe-g",
        "outputId": "da9a4ab5-3d87-41cc-e816-4558301d181b"
      },
      "execution_count": 6,
      "outputs": [
        {
          "output_type": "stream",
          "name": "stdout",
          "text": [
            "Connected to Ably\n"
          ]
        }
      ]
    }
  ]
}